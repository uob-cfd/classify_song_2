{
 "cells": [
  {
   "cell_type": "markdown",
   "id": "b4c6bd7f",
   "metadata": {},
   "source": [
    "# Song Classification, Part 2"
   ]
  },
  {
   "cell_type": "markdown",
   "id": "5d92f1bb",
   "metadata": {},
   "source": [
    "## This exercise comes from the Berkeley data science teaching materials\n",
    "\n",
    "This exercise is a version of lab 5 from section 3,  from\n",
    "<https://github.com/data-8/materials-x19> with thanks.  See that URL for more\n",
    "on the license for these materials.  We release this version, like the\n",
    "original, under the  [Creative Commons Attribution-NonCommercial 4.0\n",
    "International license](https://creativecommons.org/licenses/by-nc/4.0) (CC\n",
    "BY-NC 4.0)."
   ]
  },
  {
   "cell_type": "markdown",
   "id": "f04fd3c4",
   "metadata": {},
   "source": [
    "## Welcome\n",
    "\n",
    "Welcome to part 2 of the song classifier! We'll pick off where we left off and\n",
    "continue to build a song classifier using k-nearest neighbors.\n",
    "\n",
    "Please complete part 1 before starting part 2.\n",
    "\n",
    "You will build a classifier that guesses whether a song is hip-hop or country,\n",
    "using only the number of times that each word appears in a song's lyrics.  By\n",
    "the end of the project, you should know how to:\n",
    "\n",
    "1. Clean and organize a dataset used to test a machine learning model\n",
    "2. Build a k-nearest neighbors classifier\n",
    "3. Test a classifier on data\n",
    "\n",
    "**Advice.** Develop your answers incrementally. To perform a complicated table\n",
    "manipulation, break it up into steps, perform each step on a different line,\n",
    "give a new name to each result, and check that each intermediate result is what\n",
    "you expect. You can add any additional names or functions you want to the\n",
    "provided cells.\n",
    "\n",
    "To get started, load our usual libraries."
   ]
  },
  {
   "cell_type": "code",
   "execution_count": null,
   "id": "af31368b",
   "metadata": {},
   "outputs": [],
   "source": [
    "# Run this cell to set up the notebook, but please don't change it.\n",
    "import numpy as np\n",
    "import pandas as pd\n",
    "# Safe settings for Pandas.\n",
    "pd.set_option('mode.chained_assignment', 'raise')\n",
    "\n",
    "%matplotlib inline\n",
    "import matplotlib.pyplot as plt\n",
    "plt.style.use('fivethirtyeight')\n",
    "\n",
    "# Load the OKpy test library and tests.\n",
    "from client.api.notebook import Notebook\n",
    "ok = Notebook('classify_song_2.ok')"
   ]
  },
  {
   "cell_type": "markdown",
   "id": "92d8b2a3",
   "metadata": {},
   "source": [
    "## Overview: Recap\n",
    "\n",
    "In part 1, we completed the following tasks:\n",
    "\n",
    "1. In section 1, we explored the dataset and split the dataset into training\n",
    "   data and test data.\n",
    "2. In section 2, we ran through a guided example of the k-Nearest Neighbors\n",
    "   (k-NN) classification algorithm.\n",
    "\n",
    "**If you do not remember part 1, we highly recommend you go back and review it\n",
    "now. It will help you for this exercise.**\n",
    "\n",
    "In this part - part 1, we are going to complete the following tasks:\n",
    "\n",
    "1. Identify some features.\n",
    "2. Define a classifier function using your features and the training set.\n",
    "3. Evaluate its performance (the proportion of correct classifications) on the\n",
    "   test set.\n",
    "\n",
    "Run the cell below to set up the lab."
   ]
  },
  {
   "cell_type": "code",
   "execution_count": null,
   "id": "82ed44c8",
   "metadata": {},
   "outputs": [],
   "source": [
    "# Run some processing from part 1 of the exercise.\n",
    "lyrics = pd.read_csv('lyrics.csv')\n",
    "# Title as index\n",
    "lyrics = lyrics.set_index('Title', drop=False)\n",
    "\n",
    "training_proportion = 11/16\n",
    "\n",
    "num_songs = len(lyrics)\n",
    "num_train = int(num_songs * training_proportion)\n",
    "num_valid = num_songs - num_train\n",
    "\n",
    "train_lyrics = lyrics.iloc[:num_train]\n",
    "test_lyrics = lyrics.iloc[num_train:]\n",
    "\n",
    "def most_common(col_name, df):\n",
    "    \"\"\"The most common element in a column of a data frame.\n",
    "\n",
    "    Parameters\n",
    "    ----------\n",
    "    col_name : str\n",
    "        A string; the name of a column.\n",
    "    df : DataFrame\n",
    "\n",
    "    Returns\n",
    "    -------\n",
    "    commonest : value\n",
    "        The most common value in that column of that table. In case of a tie,\n",
    "        it returns any one of the most common values.\n",
    "    \"\"\"\n",
    "    counts = df[col_name].value_counts()\n",
    "    return counts.index[0]"
   ]
  },
  {
   "cell_type": "markdown",
   "id": "504339e0",
   "metadata": {},
   "source": [
    "## 1. Features"
   ]
  },
  {
   "cell_type": "markdown",
   "id": "cff92d2e",
   "metadata": {},
   "source": [
    "Now, we're going to extend our classifier from  to consider more than two\n",
    "features at a time.\n",
    "\n",
    "Euclidean distance still makes sense with more than two features. For `n`\n",
    "different features, we compute the difference between corresponding feature\n",
    "values for two songs, square each of the `n`  differences, sum up the resulting\n",
    "numbers, and take the square root of the sum.\n"
   ]
  },
  {
   "cell_type": "markdown",
   "id": "458a6ffd",
   "metadata": {},
   "source": [
    "### Question 1.1\n",
    "\n",
    "Write a function to compute the Euclidean distance between two **arrays** of\n",
    "features of *arbitrary* (but equal) length.  Use it to compute the distance\n",
    "between the first song in the training set and the first song in the test set,\n",
    "*using all of the features*.  (Remember that the title, artist, and genre of\n",
    "the songs are not features.)\n",
    "\n",
    "*Hint:* To convert rows to arrays, use `np.array`. For example, if `t` was a\n",
    "data frame, `np.array(t.iloc[0])` converts row 0 of `t` into an array.\n",
    "\n",
    "*Hint:* Remember Pandas `iloc` indexing to get data frame data by position\n",
    "(rather than by label).  For example, to get the row at position 9, and all the\n",
    "columns from position 5, you could use `t.iloc[9, 5:]`."
   ]
  },
  {
   "cell_type": "code",
   "execution_count": null,
   "id": "f6db37b4",
   "metadata": {},
   "outputs": [],
   "source": [
    "def distance(features1, features2):\n",
    "    \"\"\"The Euclidean distance between two arrays of feature values.\"\"\"\n",
    "    ...\n",
    "\n",
    "distance_first_to_first = ...\n",
    "distance_first_to_first"
   ]
  },
  {
   "cell_type": "code",
   "execution_count": null,
   "id": "ef14234d",
   "metadata": {},
   "outputs": [],
   "source": [
    "_ = ok.grade(\"q1_1\")"
   ]
  },
  {
   "cell_type": "markdown",
   "id": "b7fc64aa",
   "metadata": {},
   "source": [
    "### 1.1. Creating your own feature set\n",
    "\n",
    "Unfortunately, using all of the features has some downsides.  One clear\n",
    "downside is *computational* -- computing Euclidean distances just takes a long\n",
    "time when we have lots of features.  You might have noticed that in the last\n",
    "question!\n",
    "\n",
    "So we're going to select just 20.  We'd like to choose features that are very\n",
    "*discriminative*. That is, features which lead us to correctly classify as much\n",
    "of the test set as possible.  This process of choosing features that will make\n",
    "a classifier work well is sometimes called *feature selection*, or more broadly\n",
    "*feature engineering*.\n"
   ]
  },
  {
   "cell_type": "markdown",
   "id": "a71029d7",
   "metadata": {},
   "source": [
    "### Question 1.1.1\n",
    "\n",
    "Look through the list of features (the column names of the `lyrics` data frame\n",
    "after the first three).  Choose 20 common words that you think might let you\n",
    "distinguish between country and hip-hop songs. Make sure to choose words that\n",
    "are frequent enough that every song contains at least one of them. Don't just\n",
    "choose the 20 most frequent, though... you can do much better.\n",
    "\n",
    "You might want to come back to this question later to improve your list, once\n",
    "you've seen how to evaluate your classifier.  The first time you answer this\n",
    "question, spend some time looking through the features, but not more than 15\n",
    "minutes."
   ]
  },
  {
   "cell_type": "code",
   "execution_count": null,
   "id": "fa940212",
   "metadata": {},
   "outputs": [],
   "source": [
    "#- Set my_20_features to a list of 20 features (strings that are column labels)\n",
    "my_20_features = ...\n",
    "\n",
    "# Select columns using loc (label) indexing.\n",
    "train_20 = train_lyrics.loc[:, my_20_features]\n",
    "test_20 = test_lyrics.loc[:, my_20_features]"
   ]
  },
  {
   "cell_type": "markdown",
   "id": "f897730a",
   "metadata": {},
   "source": [
    "This test below makes sure that you have chosen words such that at least one\n",
    "appears in each song. If you can't find words that satisfy this test just\n",
    "through intuition, try writing code to print out the titles of songs that do\n",
    "not contain any words from your list, then look at the words they do contain."
   ]
  },
  {
   "cell_type": "code",
   "execution_count": null,
   "id": "29217cd3",
   "metadata": {},
   "outputs": [],
   "source": [
    "_ = ok.grade(\"q1_1_1\")"
   ]
  },
  {
   "cell_type": "markdown",
   "id": "565bc912",
   "metadata": {},
   "source": [
    "Next, let's classify the first song from our test set using these features.\n",
    "You can examine the song by running the cells below. Do you think it will be\n",
    "classified correctly?"
   ]
  },
  {
   "cell_type": "code",
   "execution_count": null,
   "id": "8b2e7bda",
   "metadata": {},
   "outputs": [],
   "source": [
    "print(\"Song:\")\n",
    "print(test_lyrics.iloc[0, :3])\n",
    "print(\"Features:\")\n",
    "test_20.iloc[0]"
   ]
  },
  {
   "cell_type": "markdown",
   "id": "0a88687a",
   "metadata": {},
   "source": [
    "As before, we want to look for the songs in the training set that are most like\n",
    "our test song, in terms of our features.  We will calculate the Euclidean\n",
    "distances from the test song (using the 20 selected features) to all songs in\n",
    "the training set.  You could do this with a `for` loop, but to make it\n",
    "computationally faster, we have provided a function, `fast_distances`, to do\n",
    "this for you.  Read its documentation to make sure you understand what it does.\n",
    "(You don't need to read the code in its body unless you want to.)"
   ]
  },
  {
   "cell_type": "code",
   "execution_count": null,
   "id": "7d8c01b0",
   "metadata": {},
   "outputs": [],
   "source": [
    "# Just run this cell to define fast_distances.\n",
    "\n",
    "def fast_distances(test_row, train_rows):\n",
    "    \"\"\"Array of distances between `test_row` and each row in `train_rows`.\n",
    "\n",
    "    Parameters\n",
    "    ----------\n",
    "    test_row: attribute series / array\n",
    "        A row of a table containing features of one test song (e.g.,\n",
    "        test_20.iloc[0]).\n",
    "    train_rows: data frame\n",
    "        A table of features (for example, the whole table train_20).\n",
    "\n",
    "    Returns\n",
    "    -------\n",
    "    distances : array\n",
    "        One distance per row in `train_rows`.\n",
    "    \"\"\"\n",
    "    assert train_rows.shape[1] < 50, \"Make sure you're not using all the features of the lyrics table.\"\n",
    "    # Convert the test row to an array of floating point values.\n",
    "    test_row = np.array(test_row).astype(np.float64)\n",
    "    # Convert the training attributes data frame to an array of floating point\n",
    "    # values.\n",
    "    train_attrs = np.array(train_rows).astype(np.float64)\n",
    "    # Make an array of the same shape as `train_attrs` by repeating the\n",
    "    # `test_row` len(train_rows) times.\n",
    "    repeated_test_row = np.tile(test_row, [len(train_rows), 1])\n",
    "    # Now we can do the subtractions all at once.\n",
    "    diff = repeated_test_row - train_attrs\n",
    "    distances = np.sqrt(np.sum(diff ** 2, axis=1))\n",
    "    return distances"
   ]
  },
  {
   "cell_type": "markdown",
   "id": "8c41eafd",
   "metadata": {},
   "source": [
    "### Question 1.1.2\n",
    "\n",
    "Use the `fast_distances` function provided above to compute the distance from\n",
    "the first song in the test set to all the songs in the training set, **using\n",
    "your set of 20 features**.  Make a new table called `genre_and_distances` with\n",
    "one row for each song in the training set and two columns:\n",
    "\n",
    "* The `\"Genre\"` of the training song\n",
    "* The `\"Distance\"` from the first song in the test set \n",
    "\n",
    "Ensure that `genre_and_distances` is **sorted in increasing order by distance\n",
    "to the first test song**."
   ]
  },
  {
   "cell_type": "code",
   "execution_count": null,
   "id": "2c1f6577",
   "metadata": {
    "for_assignment_type": "student"
   },
   "outputs": [],
   "source": [
    "#- The staff solution took 4 lines of code.\n",
    "genre_and_distances = ...\n",
    "genre_and_distances"
   ]
  },
  {
   "cell_type": "code",
   "execution_count": null,
   "id": "8edbc8c9",
   "metadata": {},
   "outputs": [],
   "source": [
    "_ = ok.grade(\"q1_1_2\")"
   ]
  },
  {
   "cell_type": "markdown",
   "id": "ffb4f683",
   "metadata": {},
   "source": [
    "### Question 1.1.3\n",
    "\n",
    "Now compute the 5-nearest neighbors classification of the first song in the\n",
    "test set.  That is, decide on its genre by finding the most common genre among\n",
    "its 5 nearest neighbors, according to the distances you've calculated.  Then\n",
    "check whether your classifier chose the right genre.  (Depending on the\n",
    "features you chose, your classifier might not get this song right, and that's\n",
    "okay.)\n",
    "\n",
    "*Hint*: don't forget the `most_common` function you wrote for part 1, and\n",
    "replicated at the top here for your use."
   ]
  },
  {
   "cell_type": "code",
   "execution_count": null,
   "id": "73183932",
   "metadata": {},
   "outputs": [],
   "source": [
    "#- Set my_assigned_genre to the most common genre among these.\n",
    "my_assigned_genre = ...\n",
    "print(my_assigned_genre)\n",
    "\n",
    "#- Set my_assigned_genre_was_correct to True if my_assigned_genre\n",
    "#- matches the actual genre of the first song in the test set.\n",
    "my_assigned_genre_was_correct = ...\n",
    "\n",
    "print(\"The assigned genre, {}, was{}correct.\".format(my_assigned_genre, \" \" if my_assigned_genre_was_correct else \" not \"))"
   ]
  },
  {
   "cell_type": "code",
   "execution_count": null,
   "id": "f268c921",
   "metadata": {},
   "outputs": [],
   "source": [
    "_ = ok.grade(\"q1_1_3\")"
   ]
  },
  {
   "cell_type": "markdown",
   "id": "c96d0a31",
   "metadata": {},
   "source": [
    "### 1.2. A classifier function\n",
    "\n",
    "Now we can write a single function that encapsulates the whole process of\n",
    "classification.\n"
   ]
  },
  {
   "cell_type": "markdown",
   "id": "04d7e696",
   "metadata": {},
   "source": [
    "### Question 1.2.1\n",
    "\n",
    "Write a function called `classify`.  It should take the following four\n",
    "arguments:\n",
    "\n",
    "* A row of features for a song to classify (e.g., `test_20.iloc[0]`).\n",
    "* A data frame with a column for each feature (e.g., `train_20`).\n",
    "* An array of classes that has as many items as the previous table has rows,\n",
    "  and in the same order.  These are the \"Country\" and \"Hip-hop\" labels for each\n",
    "  of the training songs.\n",
    "* `k`, the number of neighbors to use in classification.\n",
    "\n",
    "It should return the class that a `k`-nearest neighbor classifier picks for the\n",
    "given row of features (the string `'Country'` or the string `'Hip-hop'`)."
   ]
  },
  {
   "cell_type": "code",
   "execution_count": null,
   "id": "b70bcf43",
   "metadata": {},
   "outputs": [],
   "source": [
    "def classify(test_row, train_rows, train_classes, k):\n",
    "    \"\"\"Return the most common class among k nearest neighbors to test_row.\n",
    "\n",
    "    Parameters\n",
    "    ----------\n",
    "    test_row : series / array\n",
    "        Attributes for a single row (in our case, attributes for a single\n",
    "        song).\n",
    "    train_rows : data frame\n",
    "        Data frame containing attributes in training set, one row per item in the training set (in our case - one row per song).\n",
    "    train_classes : series / array / list\n",
    "        Sequence containing strings, where each element is the label\n",
    "        corresponding to the equivalent row in the `train_rows` data frame.  In our case these will be the 'Country' and 'Hip-hop' labels for each song in the `train_rows` data frame.\n",
    "    k : int\n",
    "        Number of nearest neighbors to consider.\n",
    "\n",
    "    Returns\n",
    "    -------\n",
    "    label : str\n",
    "        Predicted label for `test_row`.\n",
    "    \"\"\"\n",
    "    distances = fast_distances(test_row, train_rows)\n",
    "    genre_and_distances = ...\n",
    "    ..."
   ]
  },
  {
   "cell_type": "code",
   "execution_count": null,
   "id": "24ed42be",
   "metadata": {},
   "outputs": [],
   "source": [
    "_ = ok.grade(\"q1_2_1\")"
   ]
  },
  {
   "cell_type": "markdown",
   "id": "dd31f754",
   "metadata": {},
   "source": [
    "## Question 1.2.2"
   ]
  },
  {
   "cell_type": "markdown",
   "id": "d8c1cef3",
   "metadata": {},
   "source": [
    "Assign `grandpa_genre` to the genre predicted by your classifier for the song\n",
    "\"Grandpa Got Runned Over By A John Deere\" in the test set, using **9\n",
    "neighbors** and using your 20 features.\n",
    "\n",
    "*Hint*: remember, because we set the `lyrics` index to be the song title, you\n",
    "can use the song title when indexing with `.loc`."
   ]
  },
  {
   "cell_type": "code",
   "execution_count": null,
   "id": "a29baf14",
   "metadata": {},
   "outputs": [],
   "source": [
    "#- The staff solution first defined a row object called grandpa_features.\n",
    "grandpa_features = ...\n",
    "grandpa_genre = ...\n",
    "grandpa_genre"
   ]
  },
  {
   "cell_type": "code",
   "execution_count": null,
   "id": "88083c04",
   "metadata": {},
   "outputs": [],
   "source": [
    "_ = ok.grade(\"q1_2_2\")"
   ]
  },
  {
   "cell_type": "markdown",
   "id": "6a5d09e9",
   "metadata": {},
   "source": [
    "Finally, when we evaluate our classifier, it will be useful to have a\n",
    "classification function that is specialized to use a fixed training set and a\n",
    "fixed value of `k`.\n"
   ]
  },
  {
   "cell_type": "markdown",
   "id": "92c283b8",
   "metadata": {},
   "source": [
    "### Question 1.2.3\n",
    "\n",
    "Create a classification function that takes as its argument a row containing your 20 features and classifies that row using the 5-nearest neighbors algorithm with `train_20` as its training set."
   ]
  },
  {
   "cell_type": "code",
   "execution_count": null,
   "id": "5cc7504d",
   "metadata": {},
   "outputs": [],
   "source": [
    "def classify_one_argument(row):\n",
    "    \"\"\" Classify `row` using `train_20` training set, 5 nearest neighbors\n",
    "\n",
    "    Parameters\n",
    "    ----------\n",
    "    row : Series / array\n",
    "        Attributes for a single row.\n",
    "\n",
    "    Returns\n",
    "    -------\n",
    "    label : str\n",
    "        Predicted label for song with attributes in `row`.\n",
    "    \"\"\"\n",
    "    ...\n",
    "\n",
    "# When you're done, this should produce 'Hip-hop' or 'Country'.\n",
    "classify_one_argument(test_20.iloc[0])"
   ]
  },
  {
   "cell_type": "code",
   "execution_count": null,
   "id": "a02dada3",
   "metadata": {},
   "outputs": [],
   "source": [
    "_ = ok.grade(\"q1_2_3\")"
   ]
  },
  {
   "cell_type": "markdown",
   "id": "d5c75bf3",
   "metadata": {},
   "source": [
    "### 1.3. Evaluating your classifier"
   ]
  },
  {
   "cell_type": "markdown",
   "id": "ef21ec62",
   "metadata": {},
   "source": [
    "Now that it's easy to use the classifier, let's see how accurate it is on the whole test set.\n",
    "\n",
    "**Question 1.3.1.** Use `classify_one_argument` and `apply` to classify every song in the test set.  Name these guesses `test_guesses`.  **Then**, compute the proportion of correct classifications. "
   ]
  },
  {
   "cell_type": "code",
   "execution_count": null,
   "id": "2aa3501c",
   "metadata": {},
   "outputs": [],
   "source": [
    "test_guesses = ...\n",
    "proportion_correct = ...\n",
    "proportion_correct"
   ]
  },
  {
   "cell_type": "code",
   "execution_count": null,
   "id": "bf769476",
   "metadata": {},
   "outputs": [],
   "source": [
    "_ = ok.grade(\"q1_3_1\")"
   ]
  },
  {
   "cell_type": "markdown",
   "id": "4b0e465c",
   "metadata": {},
   "source": [
    "At this point, you've gone through one cycle of classifier design.  Let's summarize the steps:\n",
    "\n",
    "1. From available data, select test and training sets.\n",
    "2. Choose an algorithm you're going to use for classification.\n",
    "3. Identify some features.\n",
    "4. Define a classifier function using your features and the training set.\n",
    "5. Evaluate its performance (the proportion of correct classifications) on the test set.\n"
   ]
  },
  {
   "cell_type": "markdown",
   "id": "b451c8a8",
   "metadata": {},
   "source": [
    "## The end"
   ]
  },
  {
   "cell_type": "markdown",
   "id": "4520ad7b",
   "metadata": {},
   "source": [
    "Congratulations! You're finished with part 2! You've created your own song\n",
    "classifier using k-nearest neighbors.\n",
    "\n",
    "**If you want to continue, you can read about classification online and try to\n",
    "build an even more accurate classifier.**\n",
    "\n",
    "Be sure to:\n",
    "\n",
    "- **run all the tests** (the next cell has a shortcut for that).\n",
    "- **Save and Checkpoint** from the `File` menu."
   ]
  },
  {
   "cell_type": "code",
   "execution_count": null,
   "id": "fa703317",
   "metadata": {},
   "outputs": [],
   "source": [
    "# For your convenience, you can run this cell to run all the tests at once!\n",
    "import os\n",
    "_ = [ok.grade(q[:-3]) for q in os.listdir(\"tests\") if q.startswith('q')]"
   ]
  }
 ],
 "metadata": {
  "jupytext": {
   "notebook_metadata_filter": "all,-language_info",
   "split_at_heading": true,
   "text_representation": {
    "extension": ".Rmd",
    "format_name": "rmarkdown",
    "format_version": "1.2",
    "jupytext_version": "1.10.0"
   }
  },
  "kernelspec": {
   "display_name": "Python 3",
   "language": "python",
   "name": "python3"
  }
 },
 "nbformat": 4,
 "nbformat_minor": 5
}
